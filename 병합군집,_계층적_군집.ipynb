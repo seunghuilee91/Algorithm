{
  "nbformat": 4,
  "nbformat_minor": 0,
  "metadata": {
    "colab": {
      "name": "병합군집, 계층적 군집.ipynb",
      "provenance": [],
      "private_outputs": true,
      "authorship_tag": "ABX9TyNh6Mumg+A5r9LzFlTX11bt",
      "include_colab_link": true
    },
    "kernelspec": {
      "name": "python3",
      "display_name": "Python 3"
    }
  },
  "cells": [
    {
      "cell_type": "markdown",
      "metadata": {
        "id": "view-in-github",
        "colab_type": "text"
      },
      "source": [
        "<a href=\"https://colab.research.google.com/github/seunghuilee91/Deeplearning/blob/master/%EB%B3%91%ED%95%A9%EA%B5%B0%EC%A7%91%2C_%EA%B3%84%EC%B8%B5%EC%A0%81_%EA%B5%B0%EC%A7%91.ipynb\" target=\"_parent\"><img src=\"https://colab.research.google.com/assets/colab-badge.svg\" alt=\"Open In Colab\"/></a>"
      ]
    },
    {
      "cell_type": "code",
      "metadata": {
        "id": "KIQFs_nQ4J7L",
        "colab_type": "code",
        "colab": {}
      },
      "source": [
        "from google.colab import drive\n",
        "drive.mount('/content/gdrive', force_remount=True)\n",
        "import sys\n",
        "sys.path.append(\"/content/gdrive/My Drive/Colab Notebooks\")"
      ],
      "execution_count": 0,
      "outputs": []
    },
    {
      "cell_type": "markdown",
      "metadata": {
        "id": "bYyJEpI6hOIc",
        "colab_type": "text"
      },
      "source": [
        "# 군집 알고리즘 \n",
        "\n",
        "---\n",
        "\n"
      ]
    },
    {
      "cell_type": "markdown",
      "metadata": {
        "id": "pliujssf4H3h",
        "colab_type": "text"
      },
      "source": [
        "## **군집분석(cluster analysis)**\n",
        "### 군집분석이란\n",
        " - 통찰력을 생성할 목적으로 데이터를 동질적인 군집들로 세분화\n",
        " - 유사한 레코드(행)들을 군집화\n",
        " - 군집분석을 이용한 군집은 지도학습의 분류에 활용 가능\n",
        "\n",
        "*데이터가 x,y 2차원 구성이라면 육안으로 구분이 가능하나, 3,4차원이 넘어가면 사람 눈으로 군집 유무 여부를 확인, 판단하는게 어려워짐!*\n",
        "\n",
        "<br>\n",
        "\n",
        "### 활용 \n",
        " - 마케팅 : **고객 세분화**, 유사제품 식별\n",
        " - 금융 : 균형 포트폴리오(서로 다른 군집으로 부터 주식투자), 산업 포트폴리오\n",
        " - 검색엔진 : 검색어 군집화\n",
        "\n",
        "<br>\n",
        "\n",
        "\n",
        "\n",
        " "
      ]
    },
    {
      "cell_type": "markdown",
      "metadata": {
        "id": "SpaZuqvU4H-Q",
        "colab_type": "text"
      },
      "source": [
        "## **군집화 알고리즘**\n",
        "\n",
        "\n",
        "<img src=\"https://t1.daumcdn.net/cfile/tistory/260B7B3C57528B402A\">\n",
        "\n",
        "\n",
        "[분할적 군집 대표적인 알고리즘은 Kmeans 임]\n",
        "\n",
        "<br>\n",
        "<br>\n",
        "\n",
        "\n",
        "### 계층적 방법(Hierarchical methods)\n",
        "- 개체간 거리를 계산한 후에 비슷한 개체를 군집화(거리행렬 이용)\n",
        "- 병합(agglomerative)\n",
        "- 분할(divisive)\n",
        "- 군집간 거리계산\n",
        "  - 단일연결법(Single Linkage Clustering): 최단거리\n",
        "  - 완결연결법(Complete Linkage Clustering): 최장거리\n",
        "  - 평균연결법(Average Linkage Clustering):평균거리\n",
        "  - 중심연결법(Centroid Linkage Clustering): 중심거리\n",
        "\n",
        "### 비계층적 방법(Nonhierarchical methods)\n",
        "- 사전에 결정된 군집들의 수를 사용 (*군집 수를 알고 있는 경우 이용하는 군집분석 방법*)\n",
        "- **k-means**\n",
        "- 레코드들을 각각의 군집에 할당하는 방법\n",
        "- 계산량이 많지 않기 때문에 대량의 데이터베이스에서 유용\n",
        "\n",
        "\n"
      ]
    },
    {
      "cell_type": "markdown",
      "metadata": {
        "id": "CL_qC4IN4H7g",
        "colab_type": "text"
      },
      "source": [
        "## **거리 측정 방법**\n",
        "### 수치형 \n",
        " - **유클리드 거리(Euclidean Distance)**\n",
        " - 상관관계기반 유사성(Correlation-based similarity)\n",
        " - 통계적 거리(Statistical distance) or 마할라노비스(Mahalanobis)\n",
        " - 맨하탄 거리(Manhattan distance)\n",
        " - 최대좌표 거리(Maximum coordinate distance)\n",
        "\n",
        "### 범주형\n",
        " - 매칭계수(Matching Coefficient)\n",
        " - 자카드계수(Jaquard's Coefficient)\n",
        "\n",
        "### 혼합형(수치+범주)\n",
        " - 가우어(Gower)\n"
      ]
    },
    {
      "cell_type": "markdown",
      "metadata": {
        "id": "bPeOyc_p4GUp",
        "colab_type": "text"
      },
      "source": [
        "# 병합 군집(aggolomerative clustering)\n",
        "\n",
        "\n",
        "---\n",
        "\n",
        "\n",
        "\n"
      ]
    },
    {
      "cell_type": "markdown",
      "metadata": {
        "id": "KXsFd0ZghuUw",
        "colab_type": "text"
      },
      "source": [
        "**병합 군집**\n",
        " - 병합 군집(Agglomerative Clustering) : 각각의 데이터 포인트를 하나의 클러스터로 지정하고, **지정된 개수의 클러스터가 남을 때까지** 가장 비슷한 두 클러스터를 합쳐 나가는 알고리즘. \n",
        " \n",
        " - 두 클러스터를 합쳐 나가는 방식에는 모든 클러스터 내의 분산을 가장 작게 증가시키는 두 클러스터를 합치는 방식(Ward), 클러스터 포인트 사이의 평균 거리가 가장 짧은 두 클러스터를 합치는 방식(Average), 클러스터 포인트 사이의 최대 거리가 가장 짧은 두 클러스터를 합치는 방식(Complete) 등이 있다. Ward 방식이 대부분의 데이터 세트에 알맞게 동작한다.\n",
        "\n",
        "\n",
        " - 초기에는 각 포인트가 하나의 클러스터이다. 그 다음 가장 가까운 두 클러스터가 합쳐지기 시작한다. 클러스터가 성장하면서 점점 더 멀리 있는 (다른 클러스터보다는 가까운) 데이터를 포함시키고, 지정해준 클러스터 개수가 되면 성장(병합)을 멈춘다. 이러한 병합 군집 알고리즘의 작동 특성상 새로운 데이터 포인트에 대해서는 예측을 할 수 없다.\n",
        "\n",
        " - 병합 군집은 계층적 군집(Hierarchical Clustering)을 만든다. 군집이 반복하여 진행되면 모든 포인트는 하나의 포인트를 가진 클러스터에서 시작하여 마지막 클러스터까지 이동하게 된다. 즉, **작은 클러스터들이 모여 큰 클러스터를 이루는 계층적 구조**를 가지는 것이다.\n",
        "\n",
        "\n"
      ]
    },
    {
      "cell_type": "code",
      "metadata": {
        "id": "f6nF6ddnjwQ7",
        "colab_type": "code",
        "colab": {}
      },
      "source": [
        "# library import\n",
        "\n",
        "\n",
        "import mglearn\n",
        "import matplotlib\n",
        "import matplotlib.pyplot as plt\n",
        "\n",
        "# matplotlib 설정\n",
        "matplotlib.rc('font', family='AppleGothic')\n",
        "plt.rcParams['axes.unicode_minus'] = False\n",
        "\n",
        "\n",
        "# 알고리즘 설명 시각화\n",
        "mglearn.plots.plot_agglomerative_algorithm()\n",
        "plt.show()"
      ],
      "execution_count": 0,
      "outputs": []
    },
    {
      "cell_type": "markdown",
      "metadata": {
        "id": "v8ajWIVajvkL",
        "colab_type": "text"
      },
      "source": [
        "**[병합 군집 process]**\n",
        "1. 초기에 각 포인트가 하나의 클러스터\n",
        "2. 가장 가까운 두 클러스터가 합쳐짐\n",
        "3. step4까지 이 방식으로 진행\n",
        "4. step5에서 두 개의 포인트를 가진 클러스중 하나가 3개로 확장\n",
        "5. step9까지 이 방식으로 진행\n",
        "6. 3개의 클러스터를 찾는다고 지정하면 알고리즘은 종료"
      ]
    },
    {
      "cell_type": "markdown",
      "metadata": {
        "id": "qzYkrMSb4HaV",
        "colab_type": "text"
      },
      "source": [
        "# 계층적 군집(HCA) Hierarchical Clustering\n",
        "\n",
        "---\n",
        "\n"
      ]
    },
    {
      "cell_type": "markdown",
      "metadata": {
        "id": "CuvB5MBXZGbZ",
        "colab_type": "text"
      },
      "source": [
        "**계층적 군집**\n",
        "\n",
        "\n",
        "\n",
        "\n",
        "- 계층적 군집(Hierarchical Clustering) : 계층적 군집이란 **계층적 트리 모형을 이용하여 개별 데이터 포인트들을 순차적, 계층적으로 유사한 클러스터로 통합하여 군집화**를 수행하는 알고리즘이다. k-평균 군집 알고리즘과는 달리 **클러스터의 개수를 사전에 정하지 않아도 학습을 수행**할 수 있다. \n",
        "\n",
        "\n",
        "- 계층적 군집에는 개개의 포인트를 순차적으로 **병합하는 상향식의 병합 군집 방식(Agglomerative Clustering)**, 전체를 하나의 클러스터로 하여 그것을 분할해 나가는 **하향식의 분할 군집 방식(Divisive Clustering)**이 있다.\n",
        "<br>\n",
        "<br>\n",
        "\n",
        "<img src=\"https://t1.daumcdn.net/cfile/tistory/243A634B5752938B09\">"
      ]
    },
    {
      "cell_type": "markdown",
      "metadata": {
        "id": "ZvGCDTcAmj_p",
        "colab_type": "text"
      },
      "source": [
        "> - 데이터들 간의 거리행렬을 구합니다. \n",
        "> - 거리행렬에서 규칙에 따라 가장 유사한 데이터들부터 군집을 형성합니다.\n",
        "> - 상대적으로 작은 데이터에 쓰기 알맞습니다.\n",
        "\n",
        "<img src=\"https://wikidocs.net/images/page/34047/%EA%B1%B0%EB%A6%AC%ED%96%89%EB%A0%AC.png\">\n",
        "\n",
        "만약 최단거리법으로 군집분석을 할 경우, 거리행렬에서 가장 값이 작은 A ,D가 군집으로 묶여 (A, D)라는 새로운 군집으로 형성합니다. 그 다음에는 거리가 가장 가까운 (A, D)와 B가 (A, D, B)라는 새로운 군집을 만드는 과정입니다. "
      ]
    },
    {
      "cell_type": "markdown",
      "metadata": {
        "id": "ZxCFndWInJWv",
        "colab_type": "text"
      },
      "source": [
        "### **덴드로그램(Dendrogram)**"
      ]
    },
    {
      "cell_type": "code",
      "metadata": {
        "id": "nbmS1DnIlDqO",
        "colab_type": "code",
        "colab": {}
      },
      "source": [
        "mglearn.plots.plot_agglomerative()\n",
        "\n",
        "\n",
        "plt.show()"
      ],
      "execution_count": 0,
      "outputs": []
    },
    {
      "cell_type": "markdown",
      "metadata": {
        "id": "UZxr0WpJlOwU",
        "colab_type": "text"
      },
      "source": [
        "이 그래프는 계층 군집의 모습을 자세히 나타내지만, 2차원 데이터일 뿐이며 특성이 셋 이상인 데이터셋에는 적용불가 한다. dendrogram은 다차원 데이터셋을 처리 가능하다."
      ]
    },
    {
      "cell_type": "markdown",
      "metadata": {
        "id": "dTqwmywni26m",
        "colab_type": "text"
      },
      "source": [
        "\n",
        "<img src=\"https://wikidocs.net/images/page/34047/%EB%8D%B4%EB%93%9C%EB%A1%9C%EA%B7%B8%EB%9E%A8.png\">\n",
        "\n",
        " - 덴드로그램(Dendrogram) : 덴드로그램은 계층 군집을 시각화하는 도구로서, 다차원 데이터 세트를 처리할 수 있다. 계층적 군집에서 클러스터의 개수를 지정해주지 않아도 학습을 수행할 수 있는 것은 개체들이 결합되는 순서를 나타내는 트리 형태의 구조인 덴드로그램 덕분이다. 덴드로그램에서 가지의 길이는 합쳐진 클러스터가 얼마나 멀리 떨어져 있는지를 보여준다.\n",
        "\n",
        "\n",
        " - 덴드로그램을 가로 선으로 분할하면 클러스터를 임의로 나눌 수 있다. 즉 군집화를 하기 전에 클러스터의 개수를 정해주어야 하는 k-평균 군집 알고리즘과는 달리,**병합 군집같은 계층척 군집 알고리즘은 계층적으로 군집화를 완료한 후에 사용자가 시각화된 덴드로그램을 보고 클러스터를 나눌 수 있는 것**이다. 그러나 k-평균 군집과 마찬가지로, 계층적 군집에서도 데이터 간의 거리를 기반으로 하기 때문에 복잡한 형상의 데이터 세트는 구분하지 못한다."
      ]
    },
    {
      "cell_type": "markdown",
      "metadata": {
        "id": "RuLy8qVhneDY",
        "colab_type": "text"
      },
      "source": [
        "> - 계층적 군집분석은 기본적으로 연산량이 많기에 **큰 표본에서는 추천되지 않음**. \n",
        "- 하지만 결과값을 덴드로그램을 통해 시각화할 수 있음 (설명하기 쉬움)\n",
        "- **대표본을 소표본으로 샘플링 한 후, 비계층적 군집분석**을 하면 대표본을 대상으로하는 군집분석은 몇 개의 군집이 적합할지 탐색 가능 \n",
        "\n",
        "\n"
      ]
    },
    {
      "cell_type": "markdown",
      "metadata": {
        "id": "MxfhHjcfrGAN",
        "colab_type": "text"
      },
      "source": [
        "**reference**\n",
        "\n",
        "\n",
        "https://rfriend.tistory.com/198    (유용!)\n",
        "\n",
        "https://dbrang.tistory.com/1073\n",
        "\n",
        "https://wikidocs.net/34050"
      ]
    },
    {
      "cell_type": "code",
      "metadata": {
        "id": "oIbjtGm_Yp4W",
        "colab_type": "code",
        "colab": {}
      },
      "source": [
        "# 1. 거리 계산\n",
        "from scipy.spatial.distance import pdist, squareform\n",
        "\n",
        "row_dist = pd.DataFrame(squareform(pdist(utilities_df,\n",
        "                                         metric='euclidean')),\n",
        "                        columns=labels,\n",
        "                        index=labels)\n",
        "\n",
        "row_dist"
      ],
      "execution_count": 0,
      "outputs": []
    },
    {
      "cell_type": "code",
      "metadata": {
        "id": "U0Q3uV9zZTdn",
        "colab_type": "code",
        "colab": {}
      },
      "source": [
        "# 2. 거리를 BASE로 묶어 주기\n",
        "from scipy.cluster.hierarchy import linkage\n",
        "row_clusters = linkage(utilities_df.values,\n",
        "                       method='complete',\n",
        "                       metric='euclidean')\n",
        "\n",
        "pd.DataFrame(row_clusters,\n",
        "             columns=['row label 1', 'row label 2',\n",
        "                               '거리','클러스터 샘플 갯수'],\n",
        "                     index=['cluster %d' % (i + 1)\n",
        "                     for i in range(row_clusters.shape[0])])"
      ],
      "execution_count": 0,
      "outputs": []
    },
    {
      "cell_type": "code",
      "metadata": {
        "id": "4o6J49ota8O9",
        "colab_type": "code",
        "colab": {}
      },
      "source": [
        "# 처음부터 하나하나 묶어주는 것\n",
        "\n",
        "from scipy.cluster.hierarchy import dendrogram\n",
        "\n",
        "dendr = dendrogram(row_clusters,\n",
        "                   labels=labels)\n",
        "\n",
        "plt.tight_layout()\n",
        "plt.ylabel('Euclidean distance')\n",
        "plt.show()"
      ],
      "execution_count": 0,
      "outputs": []
    },
    {
      "cell_type": "code",
      "metadata": {
        "id": "JyuamwvrdpdG",
        "colab_type": "code",
        "colab": {}
      },
      "source": [
        "# 군집 잘라주기\n",
        "from sklearn.cluster import AgglomerativeClustering\n",
        "\n",
        "ac = AgglomerativeClustering(n_clusters= 3,\n",
        "                             affinity='euclidean',\n",
        "                             linkage='complete')\n",
        "labels = ac.fit_predict(utilities_df)\n",
        "print('클러스터 레이블: %s' % labels)"
      ],
      "execution_count": 0,
      "outputs": []
    },
    {
      "cell_type": "markdown",
      "metadata": {
        "id": "h-W8RXvTh8N7",
        "colab_type": "text"
      },
      "source": [
        "[참고]"
      ]
    },
    {
      "cell_type": "code",
      "metadata": {
        "id": "LOLaO8cfTh-M",
        "colab_type": "code",
        "colab": {}
      },
      "source": [
        "# K-mean 군집분석 예제\n",
        "\n",
        "# 기본함수\n",
        "import numpy as np\n",
        "import pandas as pd\n",
        "import matplotlib.pyplot as plt\n",
        "\n",
        "# 데이터 전처리\n",
        "from sklearn.preprocessing import StandardScaler # 연속변수의 표준화\n",
        "\n",
        "# 모델구축\n",
        "from sklearn.cluster import KMeans\n",
        "\n",
        "# 예제데이터\n",
        "utilities_df = pd.read_csv(\"/content/gdrive/My Drive/Colab Notebooks/Ch10.군집분석/Utilities.csv\")\n",
        "utilities_df.head()"
      ],
      "execution_count": 0,
      "outputs": []
    },
    {
      "cell_type": "code",
      "metadata": {
        "id": "W90zt4yOUawq",
        "colab_type": "code",
        "colab": {}
      },
      "source": [
        "utilities_df.keys()"
      ],
      "execution_count": 0,
      "outputs": []
    },
    {
      "cell_type": "code",
      "metadata": {
        "id": "4SZoNbr8Ult6",
        "colab_type": "code",
        "colab": {}
      },
      "source": [
        "columns = ['Fixed_charge', 'RoR', 'Cost', 'Load_factor',\n",
        "       'Demand_growth', 'Sales', 'Nuclear', 'Fuel_Cost']\n",
        "columns"
      ],
      "execution_count": 0,
      "outputs": []
    },
    {
      "cell_type": "code",
      "metadata": {
        "id": "09gVnIdzU7rM",
        "colab_type": "code",
        "colab": {}
      },
      "source": [
        "labels = np.array(utilities_df['Company'])\n",
        "labels"
      ],
      "execution_count": 0,
      "outputs": []
    },
    {
      "cell_type": "code",
      "metadata": {
        "id": "aD1ZkaxfVFt_",
        "colab_type": "code",
        "colab": {}
      },
      "source": [
        "utilities_df = utilities_df.drop(['Company'], axis=1)    # 회사이름 삭제 (표준화)\n",
        "utilities_df"
      ],
      "execution_count": 0,
      "outputs": []
    },
    {
      "cell_type": "code",
      "metadata": {
        "id": "-cZXDhpuVvsB",
        "colab_type": "code",
        "colab": {}
      },
      "source": [
        "stdsc = StandardScaler()\n",
        "utilities_df = pd.DataFrame(stdsc.fit_transform(utilities_df))  # 수치형 데이터 표준화  "
      ],
      "execution_count": 0,
      "outputs": []
    },
    {
      "cell_type": "code",
      "metadata": {
        "id": "NaSM5PvkV_MP",
        "colab_type": "code",
        "colab": {}
      },
      "source": [
        "utilities_df.index = labels\n",
        "utilities_df.columns = columns\n",
        "utilities_df"
      ],
      "execution_count": 0,
      "outputs": []
    },
    {
      "cell_type": "code",
      "metadata": {
        "id": "QADRnYR4WUSA",
        "colab_type": "code",
        "colab": {}
      },
      "source": [
        "# 군집화 모델\n",
        "km = KMeans(n_clusters=6,\n",
        "            init='k-means++',\n",
        "            n_init=10,\n",
        "            max_iter=300,\n",
        "            random_state=1)\n",
        "y_km = km.fit_predict(utilities_df)"
      ],
      "execution_count": 0,
      "outputs": []
    },
    {
      "cell_type": "code",
      "metadata": {
        "id": "XTAxmUxtWkua",
        "colab_type": "code",
        "colab": {}
      },
      "source": [
        "y_km"
      ],
      "execution_count": 0,
      "outputs": []
    },
    {
      "cell_type": "code",
      "metadata": {
        "id": "flOKv7RoWxs9",
        "colab_type": "code",
        "colab": {}
      },
      "source": [
        " cluster = pd.DataFrame(y_km)\n",
        " cluster.index = labels\n",
        " cluster.columns = ['cluster']\n",
        " cluster"
      ],
      "execution_count": 0,
      "outputs": []
    },
    {
      "cell_type": "code",
      "metadata": {
        "id": "DHpx-QQOXEIQ",
        "colab_type": "code",
        "colab": {}
      },
      "source": [
        "# 엘보우 차트(Elbow Method)\n",
        "distortions = []\n",
        "for i in range(1,10):\n",
        "    km = KMeans(n_clusters=i,\n",
        "                init='k-means++',\n",
        "                n_init=10,\n",
        "                max_iter=300,\n",
        "                random_state=0)\n",
        "    km.fit(utilities_df)\n",
        "    distortions.append(km.inertia_)\n",
        "plt.plot(range(1,10), distortions, marker='o')\n",
        "plt.xlabel('Number of Clusters')\n",
        "plt.ylabel('Distortion')\n",
        "plt.tight_layout()\n",
        "plt.show()"
      ],
      "execution_count": 0,
      "outputs": []
    }
  ]
}