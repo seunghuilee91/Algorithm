{
  "nbformat": 4,
  "nbformat_minor": 0,
  "metadata": {
    "colab": {
      "name": "DNN(Deep Neural Network).ipynb",
      "provenance": [],
      "private_outputs": true,
      "authorship_tag": "ABX9TyP6LrYXlyHiRT8j2rya3nZD",
      "include_colab_link": true
    },
    "kernelspec": {
      "name": "python3",
      "display_name": "Python 3"
    }
  },
  "cells": [
    {
      "cell_type": "markdown",
      "metadata": {
        "id": "view-in-github",
        "colab_type": "text"
      },
      "source": [
        "<a href=\"https://colab.research.google.com/github/seunghuilee91/Deeplearning/blob/master/DNN(Deep_Neural_Network).ipynb\" target=\"_parent\"><img src=\"https://colab.research.google.com/assets/colab-badge.svg\" alt=\"Open In Colab\"/></a>"
      ]
    },
    {
      "cell_type": "markdown",
      "metadata": {
        "id": "zy0hSUXr1IwP",
        "colab_type": "text"
      },
      "source": [
        "# ANN, DNN, CNN, RNN 의 차이점\n",
        "\n",
        "\n",
        "---\n",
        "\n"
      ]
    },
    {
      "cell_type": "markdown",
      "metadata": {
        "id": "Whu0Lbf71Izg",
        "colab_type": "text"
      },
      "source": [
        "## ANN(Artifical Neural Network)\n",
        " - 딥러닝은 인공신경망(Artificial Neural Network)를 기초로 함\n",
        " - ANN은 **사람의 신경망 원리와 구조를 모방하여 만든 기계학습 알고리즘** 이다\n",
        " - 인간의 뇌가 뉴런들이 신호/자극을 받고, 그 자극이 어떠한 임계값(threshold)을 넘어서면 결과 신호를 전달하는 과정에서 착안\n",
        " - 자극/신호 = Input Data / 임계값 : 가중치(weight) / 행동 : Output Data\n",
        "\n",
        " <IMG SRC=\"https://miro.medium.com/max/1632/1*Zg55_95DWMmfRw-fBfZs_A.jpeg\">\n",
        "\n",
        " 여기서 **히든 레이어들의 갯수와 노드의 개수를 구성하는 것을 모델을 구성**한다고 하는데, 이 모델을 잘 구성하여 원하는 Output값을 잘 예측하는 것이 우리가 해야할 일이다.\n",
        "이 를 잘 구성해서 원하는 Output값을 잘 예측하는 것이 우리가 해야할 일이다. 은닉층에서는 **활성화함수**를 사용하여 최적의 **Weight와 Bias**를 찾아내는 역할을 한다.\n",
        "\n",
        "<BR>\n",
        "\n",
        "###[ANN 문제점]\n",
        "\n",
        "- **학습과정에서 파라미터의 최적값을 찾기 어렵다.** \n",
        " : 출력값을 결정하는 활성화함수의 사용은 기울기 값에 의해 weight가 결정되었는데 이런 Graident값이 뒤로 갈수록 점점 작아져 0에 수렴하는 오류를 낳기도 하고 부분적인 에러를 최저 에러로 인식하여 더이상 학습을 하지 않는 경우도 있다.\n",
        "\n",
        "- **Overfitting에 따른 문제**\n",
        "\n",
        "- **학습시간이 너무 느리다.**\n",
        "  : 은닉층이 많으면 학습하는데 정확도가 올라가지만 그만큼 연산량이 기하 급수적으로 늘어난다.\n",
        "\n",
        "\n",
        "  But,\n",
        "  느린 학습시간은 그래픽카드의 발전으로 많은 연산량도 감당할 수 있을 정도로 하드웨어의 성능이 좋아졌고, 오버피팅 문제는 사전훈련을 통해 방지할 수 있게 됨\n",
        "\n",
        "\n",
        "\n",
        "\n",
        "\n"
      ]
    },
    {
      "cell_type": "markdown",
      "metadata": {
        "id": "gvYNyJCy1I25",
        "colab_type": "text"
      },
      "source": [
        "## DNN(Deep Neural Network)\n",
        "\n",
        "<img src=\"http://uc-r.github.io/public/images/analytics/deep_learning/deep_nn.png\">\n",
        "\n",
        "ANN 기법의 여러문제가 해결되면서 모델 내 은닉층을 많이 늘려서 학습의 결과를 향상시키는 방법이 등장하였고 이를 DNN이라고 한다. **DNN은 은닉층을 2개이상 지닌 학습 방법**을 뜻한다. 컴퓨터가 스스로 분류레이블을 만들어내고 공간을 왜곡하고 데이터를 구분짓는 과정을 반복하여 최적의 구분선을 도출해낸다. DNN을 응용한 알고리즘이 바로 CNN, RNN인 것이고 이 외에도 LSTM, GRU 등이 있다.\n",
        "\n",
        "\n",
        "\n",
        "\n"
      ]
    },
    {
      "cell_type": "markdown",
      "metadata": {
        "id": "6ap6XRrZ1I5m",
        "colab_type": "text"
      },
      "source": [
        "## CNN(Convolution Neural Network)\n",
        "기존의 방식은 데이터에서 지식을 추출해 학습이 이루어졌지만, CNN은 데이터의 특징을 추출하여 특징들의 패턴을 파악하는 구조이다. 이 알고리즘은 Convolution 과정과 Pooling과정을 통해 진행된다. \n",
        "\n",
        "### Convolution?\n",
        "- 데이터의 특징을 추출하는 과정으로 데이터에 각 성분의 인접 성분들을 조사해 특징을 파악하고 파악한 특징을 한장으로 도출시키는 과정이다. 여기서 도출된 장을 Convolution Layer라고 한다. 이 과정은 하나의 압축 과정이며 파라미터의 갯수를 효과적으로 줄여주는 역할을 한다.\n",
        "\n",
        "\n",
        "### Pooling?\n",
        "- 이는 Convolution 과정을 거친 레이어 사이즈를 줄여주는 과정이다. 단순히 데이터의 사이즈를 줄여주고 노이즈를 상쇄시키고 미세한 부분에서 일관적인 특징을 제공한다.\n",
        "\n",
        "<BR>\n",
        "<BR>\n",
        "\n",
        "\n",
        "*CNN은 보통 정보추출, 문장분류, 얼굴인식 등의 분야에서 널리 사용되고 있다*"
      ]
    },
    {
      "cell_type": "markdown",
      "metadata": {
        "id": "D9QAWxXe1I-m",
        "colab_type": "text"
      },
      "source": [
        ""
      ]
    },
    {
      "cell_type": "markdown",
      "metadata": {
        "id": "1W0-kRfc1JLl",
        "colab_type": "text"
      },
      "source": [
        ""
      ]
    },
    {
      "cell_type": "markdown",
      "metadata": {
        "id": "eruIxWXW1JI-",
        "colab_type": "text"
      },
      "source": [
        ""
      ]
    },
    {
      "cell_type": "markdown",
      "metadata": {
        "id": "9mLhVOqF1JGR",
        "colab_type": "text"
      },
      "source": [
        ""
      ]
    },
    {
      "cell_type": "markdown",
      "metadata": {
        "id": "Kc9WY6fu1JDy",
        "colab_type": "text"
      },
      "source": [
        ""
      ]
    },
    {
      "cell_type": "markdown",
      "metadata": {
        "id": "bArMapv61JBs",
        "colab_type": "text"
      },
      "source": [
        ""
      ]
    },
    {
      "cell_type": "markdown",
      "metadata": {
        "id": "e8CINx791I8x",
        "colab_type": "text"
      },
      "source": [
        ""
      ]
    }
  ]
}