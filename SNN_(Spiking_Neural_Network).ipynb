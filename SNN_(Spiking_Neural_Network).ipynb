{
  "nbformat": 4,
  "nbformat_minor": 0,
  "metadata": {
    "colab": {
      "name": "SNN (Spiking Neural Network)",
      "provenance": [],
      "private_outputs": true,
      "authorship_tag": "ABX9TyOiPTo1UlhlHS8oALSrXKV5",
      "include_colab_link": true
    },
    "kernelspec": {
      "name": "python3",
      "display_name": "Python 3"
    }
  },
  "cells": [
    {
      "cell_type": "markdown",
      "metadata": {
        "id": "view-in-github",
        "colab_type": "text"
      },
      "source": [
        "<a href=\"https://colab.research.google.com/github/seunghuilee91/Deeplearning/blob/master/SNN_(Spiking_Neural_Network).ipynb\" target=\"_parent\"><img src=\"https://colab.research.google.com/assets/colab-badge.svg\" alt=\"Open In Colab\"/></a>"
      ]
    },
    {
      "cell_type": "code",
      "metadata": {
        "id": "0kzCvjErxG8y",
        "colab_type": "code",
        "colab": {}
      },
      "source": [
        "from google.colab import drive\n",
        "drive.mount('/content/gdrive', force_remount=True)\n",
        "import sys\n",
        "sys.path.append(\"/content/gdrive/My Drive/Colab Notebooks\")"
      ],
      "execution_count": 0,
      "outputs": []
    },
    {
      "cell_type": "markdown",
      "metadata": {
        "id": "D4uJJav_daC1",
        "colab_type": "text"
      },
      "source": [
        "# 스파이킹 신경망 - SNN (Spiking Neural Network)\n",
        "\n",
        "\n",
        "---\n",
        "- 인공신경망ANN의 한 종류로서, 모델의 뉴런들이 스파이크의 시퀀스를 통해 소통하는 신경망을 지칭.\n",
        "- 신경망은 여러분야에서 탁월한 결과를 내놓곤 있지만 학습 시에 막대한 계산량이 필요하고 사용 시에도 만만치 않기에 좀 더 생물학적인 방법으로 신경망 구성을 하고자하는 노력의 결과물 중 하나임\n"
      ]
    },
    {
      "cell_type": "markdown",
      "metadata": {
        "id": "76oNonp4daFx",
        "colab_type": "text"
      },
      "source": [
        "## 1) 모델 특징\n",
        "\n",
        "- 스파이킹 뉴런을 기반으로 설계된 신경망은 대량의 데이터를 상대적으로 적은 수의 스파이크로 처리할 수 있다 (VanRullen et al. 2005)\n",
        "\n",
        "- 스파이킹 신경망과 생물학적 신경망의 유사성 덕분에, 스파이킹 신경망은 신경 정보 처리neural information processing, 시냅스 가소성과 학습을 포함한 뇌의 기본적인 동작 과정을 분석하는 데 있어 강력한 도구로 사용\n",
        "\n",
        "-  SNN은 공학과 접목되어 넓은 분야에서의 다양한 문제에 대한 해결책을 제시하는데 이는 신호처리, 이벤트 감지, 분류, 발화 인식speech recognition, 공간 탐색spatial navigation 혹은 모터 조작과 같은 분야\n",
        "\n",
        "- 퍼셉트론과 비선형 함수sigmoidal gates (Maass 1997)로 구성된 신경망에 비해 적은 컴퓨팅 자원을 소모하여 해결할 수 있음\n",
        "\n",
        "\n",
        "<img src=\"https://miro.medium.com/max/792/1*vvjGQAfTlk2NPD7bmD1zVQ.gif\">\n",
        "\n",
        "\n",
        "[참고] SNN에서 뉴런 모델로 가장 널리 사용되는 LIF\n",
        "(Leaky Integrate-and-Fire) 뉴런 모델"
      ]
    },
    {
      "cell_type": "markdown",
      "metadata": {
        "id": "_s_N80mEdaIo",
        "colab_type": "text"
      },
      "source": [
        "## 2) Spiking models?\n",
        "생물학적 뉴런들은 활동 전위action potential 혹은 스파이크spike라고 부르는 **전기적 펄스를 생성**하고, 전파함으로써 소통한다. 일반적인 스파이크 기반 모델들은 이로 인해 아래와 같은 생물학적 모델과의 공통점을 갖는다.\n",
        "\n",
        "- 뉴런은 여러 입력으로부터의 정보를 처리하여 하나의 스파이크 출력 신호를 생성한다.\n",
        "- 뉴런의 발사 가능성(스파이크를 생성할 확률)은 **흥분성excitatory 입력에 의해 증가하고, 억제inhibitory 입력에 의해 감소**한다.\n",
        "- 뉴런의 역학관계dynamics는 하나 이상의 상태 변수state variable에 의해 변화하며 모델 내부의 **변수가 특정 값에 도달했을 때 모델은 하나 이상의 스파이크를 생성**해야 한다.\n",
        "\n",
        "<br>\n",
        "<Br>\n",
        "\n",
        "<img src=\"https://miro.medium.com/max/786/1*Vbgk4G8DYTYgBKoZ8ap2NQ.jpeg\">\n"
      ]
    },
    {
      "cell_type": "markdown",
      "metadata": {
        "id": "TOjAnetmdaLr",
        "colab_type": "text"
      },
      "source": [
        "## 3) 스파이킹 신경망 모델의 분류\n",
        "\n",
        "- 1) 정방향feedforward 신경망은 데이터가 입력층에서 출력층까지 한 방향으로 흐르는 신경망이다. 이는 주로 생물의 감각기관에서 발견되며, 인공신경망에서도 비슷하게 시각, 후각, 촉각 감지와 같은 간단한 감각 시스템에 활용된다. 또한, 정방향 신경망은 스파이크 동기화spike synchronization (Kumar et al. 2010)나 스파이크의 공간-시간적 인식spatio-temporal pattern에 관련된 문제를 해결하는데 활용된다.\n",
        "\n",
        "- 2) 순환 신경망(RNN)은 모델의 일부 혹은 전체 뉴런이 서로 상호 작용하는 연결을 갖는 신경망이다. 뉴런들의 상호 연결이 신경망 내부에 영향을 줘 동적인 시계열 문제에 대한 접근이 가능하다. 이로 하여금 정방향 신경망에 비해 동적인 처리가 가능하며, 잠재적으로 더욱 많은 컴퓨팅 자원을 요구할 수 있다. 스파이크 뉴런을 적용한 RNN은 신경망 진동이나 신경망의 다중성과 같은 뇌내 신경간의 복잡한 상호작용을 모델링하고 분석하는 데 사용되었다.\n",
        "\n",
        "- 3) 하이브리드 신경망은 일부는 정방향이고 일부는 순환적인 연결을 갖는 신경망이다. 정방향/순환 신경망 간의 연결 역시 정방향일 수도 있고, 순환적일 수도 있다. 가장 많이 연구된 하이브리드 신경망의 적용 사례는 아래와 같다.\n",
        "\n",
        " - **Synfire chain** : 인간의 학습과 유사하게, 시간적으로 동떨어진 두 사건을 연관 짓고, 주어진 상황에 대한 정확한 대처를 가능케 하는 메커니즘이다. 이는 다층 구조로써, 스파이크가 뉴런의 동시적인 파동synchronous wave of neuronal firing 형태로 다른 계층에 전파된다. 이 메커니즘은 전체적으로 정방향이지만, 일부 순환적인 구조를 가진다. \n",
        "\n",
        " - **Reservoir Computing** : 이는 쉽게 말해 RNN의 이점은 취하면서도 이들을 학습시키는 어려움은 피하는 방법이다.  Reservoir Computing은 원래 ANN을 위해 설계되었으나, 스파이킹 모델과의 접목에서 최근 다양한 성과를 내고 있다. "
      ]
    },
    {
      "cell_type": "markdown",
      "metadata": {
        "id": "wEaMlOI6daOJ",
        "colab_type": "text"
      },
      "source": [
        "### 4) 스파이킹 뉴런의 정보 처리 \n",
        "뇌에서는 아주 짧은 시간에 최선의 결정을 내리는데, 이런 정확하고 고속의 연산이 가능한 이유를 신경 신호로 정보가 인코드 되는 방법에서 찾으려는 시도가 많았다.\n",
        "\n",
        "1920년대에는 개구리의 촉각 피질이 외부 자극을 많이 받음에 따라 더 많은 스파이크를 생성하는 것을 기반으로, 정보가 발사 주기로 인코딩 된다는 가설이 있었다. 이런 발사 주기 위주의 패러다임은 한동안 주류였으나, 최근의 연구에서는 적어도 일부 신경망에서는, 정보 처리가 발사 주기가 아닌 활동 전위의 타이밍으로 처리된다는 것이 밝혀졌다.\n",
        "\n",
        "이렇듯 전자 의수를 포함한 다양한 분야에서 발사 주기가 아닌 **활동 전위와 스파이크의 발생 타이밍 기반의 정보처리를 관측, 적용**하고 있다. 아래는 몇 가지 예시이다.\n",
        "\n",
        "\n",
        "<img src=\"https://k.kakaocdn.net/dn/bP0Ick/btqAUu6eaqU/IEG3l15xA7Tf0pKgpGpGIk/img.png\">\n",
        "\n",
        "\n",
        "- 1) Time to first spike 모델에서, 신경망 내의 정보는 자극의 시작 시점과 신경망 내의 첫 스파이크 반응 사이의 간극으로 인코딩 된다. Saal과 공저자들의 연구에 의하면, 첫 스파이크의 발생 타이밍 정보는 촉각 감지와 분류 등의 task에서 자극의 형태와 자극의 방향과 같은 정보에 대하여 스파이크의 개수나 주기 정보보다 두 배 이상의 정보를 포함한다. 이는 다음 계층의 뉴런들이 전 계층의 뉴런에서 전송한 첫 스파이크만을 가지고 정확한 정보처리를 시작할 수 있음을 의미한다. 이러한 모델은 인공 신경망에서 촉각이나 후각 등에 대한 인풋 계층으로써 고려 가능한다.\n",
        "\n",
        "- 2) Rank-order coding (ROC) 또한 신경 코드 방안 중에 하나로, 여기서는 각 뉴런이 처음으로 스파이크를 방출하는 순서를 기록한다. 이 방법은 영장류의 시각계가 엄청난 속도로 사물을 분류하는 것을 설명하기 위해 제안되었다. Thorpe와 그의 동료들은 신경절이 시각 자극을 신경절의 활성화 순서로 코드한다고 주장했다. 이러한 관점은 정방향 신경망에 쉽게 적용 가능한데, Thorpe는 이를 이용하여 인간과 비슷한 속도로 정적 이미지를 분류하는 예제를 보였다.\n",
        "\n",
        "- 3) Latency code 모델에서, 정보는 각 스파이크 간의 정확한 간극으로 코드된다. 스파이크 간의 정밀한 간극을 조작함으로서 다양한 정보를 표현할 수 있다. 앞 계층 시냅스의 활성화 타이밍을 10ms만 조작해도 뒤 계층의 시냅스 활성화 타이밍에 영향을 끼치기 떄문이다. 이러한 방법은 적은 수의 스파이크만으로 대량의 정보를 다룰 수 있어 굉장히 효율적이다. 이렇게 정확하게 통제되는 스파이크들은 일반적으로 정방향 신경망에서 관측된다. 이는 순환 신경망에서는 약간의 노이즈나 내적 요인으로 인해 생긴 문제가 정확성을 크게 해칠 수 있기 때문인데, 그럼에도 순환 신경망에 이런 정확한 스파이크 타이밍을 적용하려는 연구가 reservoir computation을 비롯한 분야에서 진행되고 있다.\n",
        "\n",
        "- 4) Resonant burst 모델은 스파이크의 폭발 주기(burst frequency)가 어떤 하위 뉴런이 활성화되었는지에 따라 추정 가능하다고 가정했다. 이 모델은 공명현상을 통해 작은 폭발이 후위 시냅스에 큰 폭발을 유발할 수 있음을 보였다.\n",
        "\n",
        "- 5) Coding by synchrony 모델은 같은 오브젝트 정보를 인코드한 각 비트는 동시에 활성화 할 거라는 가정에 기반한다. 이러한 가정은 몇가지 관측과 실험에서 비롯된다.\n",
        "\n",
        "- 6) Phase coding 모델에서 스파이크의 발생 시점은 주기적인 신호내의 특정 시점으로 간주된다. 이 방법으로 신경 스파이크는 정보를 백그라운드 진동과 연관하여 인코드할 수 있다.\n",
        "\n",
        "\n",
        ">알아둬야 할 것은, 이 문단에서 논의한 여러 예시들이 발사 주기 기반의 방법들을 부정하는 것은 아니라는 것이다."
      ]
    },
    {
      "cell_type": "markdown",
      "metadata": {
        "id": "AQJ43fabdaQ1",
        "colab_type": "text"
      },
      "source": [
        "## 5) 한계점\n",
        "- 현재까지 많이 사용되지 않고 있는 이유는 아직 학습 방법에 대한 자료가 충분하지 않다.\n",
        "- 2세대 네트워크 보다 높은 성능을 보여주는 지도학습 방법은 아직까지 개발되지 않았다.\n",
        "- SNN은 정확한 스파이크의 시간 정보를 잃지 않은 상태로 뉴런과 시냅스가 미분이 안 되기 때문에 경사 강하법과 오차 역전파 방법을 사용하여 SNN을 학습할 수 없다. 해결가능한 감독 학습 방법을 개발해야한다.\n",
        "- 많은 계산을 필요로 한다.(미분 방정식에 대한 시뮬레이션 필요)\n",
        "\n",
        "> 이 모든 일이 가능해진다면, 사람의 두뇌가 실제로 어떻게 학습하는지를 모방할 수 있으며 더 사실적인 생물학적 학습이 가능해진다."
      ]
    },
    {
      "cell_type": "markdown",
      "metadata": {
        "id": "r2X4Y-bBdaTp",
        "colab_type": "text"
      },
      "source": [
        ""
      ]
    },
    {
      "cell_type": "markdown",
      "metadata": {
        "id": "N2bPc6l4daWe",
        "colab_type": "text"
      },
      "source": [
        ""
      ]
    },
    {
      "cell_type": "markdown",
      "metadata": {
        "id": "S7REmhHBdaYx",
        "colab_type": "text"
      },
      "source": [
        ""
      ]
    },
    {
      "cell_type": "code",
      "metadata": {
        "id": "b45L-k4pdZib",
        "colab_type": "code",
        "colab": {}
      },
      "source": [
        ""
      ],
      "execution_count": 0,
      "outputs": []
    }
  ]
}