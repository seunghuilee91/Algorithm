{
  "nbformat": 4,
  "nbformat_minor": 0,
  "metadata": {
    "colab": {
      "name": "Ensemble.ipynb",
      "provenance": [],
      "private_outputs": true,
      "authorship_tag": "ABX9TyO79r90vT14brH2ydRfT5z9",
      "include_colab_link": true
    },
    "kernelspec": {
      "name": "python3",
      "display_name": "Python 3"
    }
  },
  "cells": [
    {
      "cell_type": "markdown",
      "metadata": {
        "id": "view-in-github",
        "colab_type": "text"
      },
      "source": [
        "<a href=\"https://colab.research.google.com/github/seunghuilee91/Deeplearning/blob/master/Ensemble.ipynb\" target=\"_parent\"><img src=\"https://colab.research.google.com/assets/colab-badge.svg\" alt=\"Open In Colab\"/></a>"
      ]
    },
    {
      "cell_type": "code",
      "metadata": {
        "id": "eL40CA31_k5r",
        "colab_type": "code",
        "colab": {}
      },
      "source": [
        "from google.colab import drive\n",
        "drive.mount('/content/gdrive', force_remount=True)\n",
        "import sys\n",
        "sys.path.append(\"/content/gdrive/My Drive/Colab Notebooks\")"
      ],
      "execution_count": 0,
      "outputs": []
    },
    {
      "cell_type": "markdown",
      "metadata": {
        "id": "FhGBWlqu2QqH",
        "colab_type": "text"
      },
      "source": [
        "# 앙상블\n",
        "\n",
        "\n",
        "---\n",
        "\n"
      ]
    },
    {
      "cell_type": "markdown",
      "metadata": {
        "id": "n4Cm-r5R2QmR",
        "colab_type": "text"
      },
      "source": [
        "## 앙상블 학습이란?\n",
        "####목적\n",
        "- 여러 분류기를 하나의 메타 분류기로 연결하여 개별 분류기보다 더 좋은 **일반화** 성능을 달성\n",
        "\n",
        "####방법\n",
        "- 여러개 분류 알고리즘 사용 : 다수결 투표(Voting)\n",
        "- 하나의 분류 알고리즘 이용 : 배깅(Bagging), 부스팅(Boosting)\n",
        "\n",
        "####종류\n",
        "- 투표(Majority Voting) : 동일한 훈련세트\n",
        "- 배깅(Bagging) : 훈련샘플에서 알고리즘 마다 별도의 훈련세트 추출\n",
        "  - 랜덤포레스트(Random Forest) \n",
        "- 부스팅(Boosting) : 샘플 뽑을 때 잘못 분류된 data 50%를 재학습, 또는 가중치 이용     **[셋 중 가장 정확도가 높음, But, 실제로 사용할 때 복잡하고 어렵다. 가중치를 어떻게 구현할 것인가?]**\n"
      ]
    },
    {
      "cell_type": "markdown",
      "metadata": {
        "id": "8oaHT0TN2Qir",
        "colab_type": "text"
      },
      "source": [
        "## 과반수 투표(Majority Voting)\n",
        "- 방법 : 동일한 훈련세트로 모델 구축\n",
        "\n",
        "\n",
        "<img src=\"https://www.researchgate.net/publication/324014302/figure/fig2/AS:644424015040514@1530654066950/Majority-voting-algorithm.png\">\n",
        "\n",
        "\n"
      ]
    },
    {
      "cell_type": "markdown",
      "metadata": {
        "id": "Vyw-K9Q04sbK",
        "colab_type": "text"
      },
      "source": [
        "## 배깅(Bagging)\n",
        "- 훈련샘플에서 알고리즘마다 별도의 훈련세트 추출해서 모델 구축\n",
        "- 부트스트랩(Bootstrap) 실시 : 데이터로 부터 복원추출(중복허용)을 이용\n",
        "\n",
        "### 랜덤 포레스트(Random Forest)\n",
        "- 방법\n",
        " - 배깅의 일종\n",
        " - 단일 분류 알고리즘(DT) 사용\n",
        " - 포레스트 구축 : 무작위로 예측변수 선택하여 모델 구축\n",
        " - 결과 결합 : 투표(분류), 평균화(예측)\n",
        " - 나무구조로 표현(x) -> **변수의 중요도 제공**\n",
        " ; 어떤 룰에 의해 어떻게 결정되는지 설명하기 어려운 단점있음"
      ]
    },
    {
      "cell_type": "markdown",
      "metadata": {
        "id": "IlOu21pK2QfO",
        "colab_type": "text"
      },
      "source": [
        "## 부스팅(Boosting)\n",
        "- 샘플 뽑을 때 잘못 분류된 data 50%를 재학습\n",
        "- AdaBoost : 전체 훈련샘플 사용하고, 잘못 분류된 data에 가중치 적용-> **더 잘맞출 수 있도록 모델을 재구축 할 수 있게**\n",
        "\n"
      ]
    },
    {
      "cell_type": "markdown",
      "metadata": {
        "id": "NbDC02XWBJYl",
        "colab_type": "text"
      },
      "source": [
        "# 코드실습\n"
      ]
    },
    {
      "cell_type": "markdown",
      "metadata": {
        "id": "NoM6vk7nVkNG",
        "colab_type": "text"
      },
      "source": [
        "## 과반수투표 VotingClassifier\n"
      ]
    },
    {
      "cell_type": "markdown",
      "metadata": {
        "id": "HFca16mPVpgS",
        "colab_type": "text"
      },
      "source": [
        "### 1. 기본 패키지 설치"
      ]
    },
    {
      "cell_type": "code",
      "metadata": {
        "id": "Vwlwt-lkCnq-",
        "colab_type": "code",
        "colab": {}
      },
      "source": [
        "# 1.기본\n",
        "import numpy as np # numpy 패키지 가져오기\n",
        "import matplotlib.pyplot as plt # 시각화 패키지 가져오기\n",
        "\n",
        "# 2.데이터 가져오기\n",
        "import pandas as pd # csv -> datafrom으로 전환\n"
      ],
      "execution_count": 0,
      "outputs": []
    },
    {
      "cell_type": "code",
      "metadata": {
        "id": "Ld6WM8JVBC_o",
        "colab_type": "code",
        "colab": {}
      },
      "source": [
        "# 3.데이터 전처리\n",
        "from sklearn.preprocessing import StandardScaler # 연속변수의 표준화\n",
        "from sklearn.preprocessing import LabelEncoder # 범주형 변수 수치화\n",
        "\n",
        "# 4.훈련/검증용 데이터 분리\n",
        "from sklearn.model_selection import train_test_split\n",
        "\n",
        "#5. 분류모델구축\n",
        "from sklearn.tree import DecisionTreeClassifier # 결정트리\n",
        "# from sklearn.naive_bayes import GaussianNB # 나이브 베이즈\n",
        "from sklearn.neighbors import KNeighborsClassifier # K-최근접이웃\n",
        "# from sklearn.linear_model import Perceptron # 퍼셉트론\n",
        "from sklearn.linear_model import LogisticRegression # 로지스틱 회귀 모델\n",
        "# from sklearn.svm import SVC # 서포트 벡터 머신(SVM)\n",
        "from sklearn.neural_network import MLPClassifier# 다중인공신경망\n",
        "\n",
        "#6. 앙상블모델 추가\n",
        "from sklearn.ensemble import VotingClassifier\n",
        "from sklearn.ensemble import BaggingClassifier\n",
        "from sklearn.ensemble import AdaBoostClassifier\n",
        "from sklearn.ensemble import RandomForestClassifier\n",
        "\n",
        "#7. 모델검정\n",
        "from sklearn.metrics import confusion_matrix, classification_report # 정오분류표\n",
        "from sklearn.metrics import accuracy_score, precision_score, recall_score, f1_score, roc_auc_score # 정확도, 민감도 등\n",
        "from sklearn.metrics import roc_curve, auc # ROC 곡선 그리기\n",
        "\n",
        "#8. 최적화\n",
        "from sklearn.model_selection import cross_validate # 교차타당도\n",
        "from sklearn.pipeline import make_pipeline # 파이프라인 구축\n",
        "from sklearn.model_selection import learning_curve, validation_curve # 학습곡선, 검증곡선\n",
        "from sklearn.model_selection import GridSearchCV # 하이퍼파라미터 튜닝\n",
        "from sklearn.model_selection import cross_val_score # 교차타당도 # 추가\n",
        "\n",
        "\n"
      ],
      "execution_count": 0,
      "outputs": []
    },
    {
      "cell_type": "markdown",
      "metadata": {
        "id": "Yer-VfKuFQCm",
        "colab_type": "text"
      },
      "source": [
        "### 2. 데이터 가져오기\n",
        "#### 2.1 데이터프레임으로 저장\n",
        "- 원본데이터(csv)를 dataframe 형태로 가져오기(pandas)\n"
      ]
    },
    {
      "cell_type": "code",
      "metadata": {
        "id": "YDb4ImTdFcuf",
        "colab_type": "code",
        "colab": {}
      },
      "source": [
        "bank_df = pd.read_csv('/content/gdrive/My Drive/Colab Notebooks/Ch06.앙상블/UniversalBank.csv', encoding='UTF-8') # 파이썬 저장 데이터 가져오기\n",
        "bank_df.head()"
      ],
      "execution_count": 0,
      "outputs": []
    },
    {
      "cell_type": "code",
      "metadata": {
        "id": "8Q4QiRaCFk3s",
        "colab_type": "code",
        "colab": {}
      },
      "source": [
        "bank_df.shape"
      ],
      "execution_count": 0,
      "outputs": []
    },
    {
      "cell_type": "code",
      "metadata": {
        "id": "LPn1iQiRGHGv",
        "colab_type": "code",
        "colab": {}
      },
      "source": [
        "bank_df.keys()"
      ],
      "execution_count": 0,
      "outputs": []
    },
    {
      "cell_type": "markdown",
      "metadata": {
        "id": "EzG5X9wwGHh0",
        "colab_type": "text"
      },
      "source": [
        "2.2 Data와 target으로 분리\n",
        "- 필요한 데이터만 추출\n",
        "- data: X, target :Y로 분리"
      ]
    },
    {
      "cell_type": "code",
      "metadata": {
        "id": "dlZ2E4WLFlGw",
        "colab_type": "code",
        "colab": {}
      },
      "source": [
        "X = bank_df.drop(['ID','ZIPCode','PersonalLoan'], axis=1)\n",
        "X.head()"
      ],
      "execution_count": 0,
      "outputs": []
    },
    {
      "cell_type": "code",
      "metadata": {
        "id": "7eIc3VDDUSeS",
        "colab_type": "code",
        "colab": {}
      },
      "source": [
        "y = bank_df['PersonalLoan']\n",
        "np.bincount(y)"
      ],
      "execution_count": 0,
      "outputs": []
    },
    {
      "cell_type": "markdown",
      "metadata": {
        "id": "qWBaPJZwVGbe",
        "colab_type": "text"
      },
      "source": [
        "### 3. 데이터 전처리\n",
        "#### 3.1 data(X) 레이블 인코딩\n",
        "- 문자형 자료를 숫자(범주형)로 인코딩 -> 범주형 변수를 가변수로 처리 : One Hot Encording \n",
        "- 숫자형 자료를 표준화\n",
        "- 단, 결정나무, 랜덤포레스트, 나이브베이즈 분류 : 원본데이터 유지\n",
        "- 가변수 처리시 문자로 처리를 해야 변수명 구분이 쉬움"
      ]
    },
    {
      "cell_type": "code",
      "metadata": {
        "id": "I0I9w8s8US1_",
        "colab_type": "code",
        "colab": {}
      },
      "source": [
        "X['Education'] = X['Education'].replace([1,2,3],['Under','Grad','Prof'])\n",
        "X.head() "
      ],
      "execution_count": 0,
      "outputs": []
    },
    {
      "cell_type": "code",
      "metadata": {
        "id": "VFOUEVZAUS_6",
        "colab_type": "code",
        "colab": {}
      },
      "source": [
        "X.keys()"
      ],
      "execution_count": 0,
      "outputs": []
    },
    {
      "cell_type": "code",
      "metadata": {
        "id": "vMEQToUfUS5e",
        "colab_type": "code",
        "colab": {}
      },
      "source": [
        "# 에듀케이션만 더미변수로 만들어주기\n",
        "X = pd.get_dummies(X[['Age', 'Experience', 'Income', 'Family', 'CCAvg', 'Education','Mortgage', 'SecuritiesAccount', 'CDAccount', 'Online', 'CreditCard']],\n",
        "       columns=['Education'],\n",
        "       drop_first = True)  # 기본이 되는 첫번째 값을 제거함. False의 경우 변수가 너무 많아 지지낳아. "
      ],
      "execution_count": 0,
      "outputs": []
    },
    {
      "cell_type": "code",
      "metadata": {
        "id": "4-q8CB2mDzaT",
        "colab_type": "code",
        "colab": {}
      },
      "source": [
        "X.head()"
      ],
      "execution_count": 0,
      "outputs": []
    },
    {
      "cell_type": "markdown",
      "metadata": {
        "id": "PT1FkO-bFyyO",
        "colab_type": "text"
      },
      "source": [
        "#### 3.2 Class(target) 레이블 인코딩\n",
        "- class(y)가 숫자형으로 되어 있기 때문에 변환 없음\n"
      ]
    },
    {
      "cell_type": "code",
      "metadata": {
        "id": "w_A9wCZ8FNvp",
        "colab_type": "code",
        "colab": {}
      },
      "source": [
        "y"
      ],
      "execution_count": 0,
      "outputs": []
    },
    {
      "cell_type": "markdown",
      "metadata": {
        "id": "M86qCfA2GF3o",
        "colab_type": "text"
      },
      "source": [
        "#### 4. 훈련/검증용 데이터 분할\n",
        "- test_size : 검증데이터 30%\n",
        "- random_state : random seed 번호 = 1\n",
        "- stratify : y(클래스)의 비율에 따라 분할\n"
      ]
    },
    {
      "cell_type": "code",
      "metadata": {
        "id": "XKreOyz1GC8f",
        "colab_type": "code",
        "colab": {}
      },
      "source": [
        "# \\ 이후에 SPACE 없어야 함\n",
        "X_train, X_test, y_train, y_test = \\\n",
        "train_test_split(X,y,\n",
        "                 test_size = 0.3,\n",
        "                 random_state=1,\n",
        "                 stratify=y)"
      ],
      "execution_count": 0,
      "outputs": []
    },
    {
      "cell_type": "markdown",
      "metadata": {
        "id": "wEC5njeyGigE",
        "colab_type": "text"
      },
      "source": [
        "#### 5. 모델구축\n",
        "- 여러 분류모델 구축\n"
      ]
    },
    {
      "cell_type": "code",
      "metadata": {
        "id": "i3uN2V_HFN_Z",
        "colab_type": "code",
        "colab": {}
      },
      "source": [
        "logistic = LogisticRegression(solver='liblinear',\n",
        "                              penalty='l2',\n",
        "                              C=0.001,\n",
        "                              random_state=1)\n",
        "\n",
        "tree = DecisionTreeClassifier(max_depth=None,\n",
        "                              criterion='entropy',\n",
        "                              random_state=1)\n",
        "\n",
        "knn = KNeighborsClassifier(n_neighbors=1,\n",
        "                           p=2,\n",
        "                           metric='minkowski')\n",
        "\n",
        "voting_estimators = [('logistic', logistic),('tree',tree),('knn',knn)]\n",
        "\n",
        "# 요 문장이 핵심. voting_estimators 를 상단에서 변수화해서 가져옴. 간단하게 쓰기 위해서!\n",
        "voting = VotingClassifier(estimators = voting_estimators,\n",
        "                          voting='soft')\n"
      ],
      "execution_count": 0,
      "outputs": []
    },
    {
      "cell_type": "markdown",
      "metadata": {
        "id": "wJsYocFPIREu",
        "colab_type": "text"
      },
      "source": [
        "### 6. 모델검정\n",
        "#### 6.1 AUC검정\n"
      ]
    },
    {
      "cell_type": "code",
      "metadata": {
        "id": "BVfjkkDnFODk",
        "colab_type": "code",
        "colab": {}
      },
      "source": [
        "clf_labels = ['Logistic regression', 'Decision tree', 'KNN', 'Majority voting']\n",
        "all_clf = [logistic,tree,knn,voting]\n",
        "\n",
        "for clf, label in zip(all_clf, clf_labels):   # clf 모델, zip 변수 두개를 동시에 돌려주면서 반복할 때 \n",
        "    scores = cross_val_score(estimator=clf,  # 교차분석표\n",
        "                             X=X_train,\n",
        "                             y=y_train,\n",
        "                             cv=10,               #교차분석표를 10개로 나눠서 \n",
        "                             scoring='roc_auc')\n",
        "    print(\"ROC AUC: %0.3f (+/- %0.3f) [%s]\"\n",
        "    % (scores.mean(), scores.std(), label))"
      ],
      "execution_count": 0,
      "outputs": []
    },
    {
      "cell_type": "markdown",
      "metadata": {
        "id": "1CBQmq9XJ4xG",
        "colab_type": "text"
      },
      "source": [
        "#### 6.2 ROC 곡선 그리기"
      ]
    },
    {
      "cell_type": "code",
      "metadata": {
        "id": "60IFwH6MFOG8",
        "colab_type": "code",
        "colab": {}
      },
      "source": [
        "colors = ['black', 'orange', 'blue', 'green']\n",
        "linestyles = [':', '--', '-.', '-']\n",
        "\n",
        "for clf, label, clr, ls \\\n",
        "        in zip(all_clf, clf_labels, colors, linestyles):\n",
        "\n",
        "    clf.fit(X_train, y_train)\n",
        "    y_pred = clf.predict_proba(X_test)[:, 1]\n",
        "    fpr, tpr, thresholds = roc_curve(y_true=y_test,\n",
        "                                     y_score=y_pred)\n",
        "    roc_auc = auc(x=fpr, y=tpr)\n",
        "    plt.plot(fpr, tpr,\n",
        "             color=clr,\n",
        "             linestyle=ls,\n",
        "             label='%s (auc = %0.3f)' % (label, roc_auc))\n",
        "\n",
        "plt.legend(loc='lower right')\n",
        "plt.plot([0, 1], [0, 1],\n",
        "         linestyle='--',\n",
        "         color='gray',\n",
        "         linewidth=2)\n",
        "\n",
        "plt.xlim([-0.1, 1.1])\n",
        "plt.ylim([-0.1, 1.1])\n",
        "plt.grid(alpha=0.5)\n",
        "plt.xlabel('False positive rate (FPR)')\n",
        "plt.ylabel('True positive rate (TPR)')\n",
        "\n",
        "plt.show()\n",
        "\n",
        "# 아무것도 안해도 반은 맞춘다. "
      ],
      "execution_count": 0,
      "outputs": []
    },
    {
      "cell_type": "markdown",
      "metadata": {
        "id": "Zjp7VBZYQ3v9",
        "colab_type": "text"
      },
      "source": [
        "### 7. 최적화\n",
        "#### 7.1 하이퍼파라미터 튜닝\n",
        "- 그리드 서치를 사용한 머신 러닝 모델 시부 튜닝\n",
        "- 파라미터 확인\n"
      ]
    },
    {
      "cell_type": "code",
      "metadata": {
        "id": "5eRgZ0xsFOMJ",
        "colab_type": "code",
        "colab": {}
      },
      "source": [
        "voting.get_params()"
      ],
      "execution_count": 0,
      "outputs": []
    },
    {
      "cell_type": "markdown",
      "metadata": {
        "id": "lOoARyhpSHUj",
        "colab_type": "text"
      },
      "source": [
        "**Voting은 parameter 값을 찾아주는 기능이 있다."
      ]
    },
    {
      "cell_type": "code",
      "metadata": {
        "id": "2rsc6w3WFOQ1",
        "colab_type": "code",
        "colab": {}
      },
      "source": [
        "params = {'logistic__C': [0.001, 0.1, 100.0],\n",
        "          'tree__max_depth': [1,2,3,4,5],\n",
        "          'knn__n_neighbors' : [1,3,5,7]}\n",
        "\n",
        "grid = GridSearchCV(estimator=voting,\n",
        "                    param_grid=params,\n",
        "                    cv=10,\n",
        "                    scoring='roc_auc',\n",
        "                    iid=False)\n",
        "grid.fit(X_train, y_train)\n",
        "\n",
        "for r, _ in enumerate(grid.cv_results_['mean_test_score']):\n",
        "    print(\"%0.3f +/- %0.3f %r\"\n",
        "    % (grid.cv_results_['mean_test_score'][r],\n",
        "       grid.cv_results_['std_test_score'][r]/ 2.0,\n",
        "       grid.cv_results_['params'][r]))\n",
        "\n",
        "print('최적의 파라미터 : %s' % grid.best_params_)\n",
        "print('ACU: %.3f' % grid.best_score_)"
      ],
      "execution_count": 0,
      "outputs": []
    },
    {
      "cell_type": "code",
      "metadata": {
        "id": "CAJNJG4IFOLE",
        "colab_type": "code",
        "colab": {}
      },
      "source": [
        ""
      ],
      "execution_count": 0,
      "outputs": []
    }
  ]
}