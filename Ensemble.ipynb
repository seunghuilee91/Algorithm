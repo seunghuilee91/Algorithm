{
  "nbformat": 4,
  "nbformat_minor": 0,
  "metadata": {
    "colab": {
      "name": "Ensemble.ipynb",
      "provenance": [],
      "private_outputs": true,
      "toc_visible": true,
      "authorship_tag": "ABX9TyNyfrVQ+jSujOvDhqJY+Jfn",
      "include_colab_link": true
    },
    "kernelspec": {
      "name": "python3",
      "display_name": "Python 3"
    }
  },
  "cells": [
    {
      "cell_type": "markdown",
      "metadata": {
        "id": "view-in-github",
        "colab_type": "text"
      },
      "source": [
        "<a href=\"https://colab.research.google.com/github/seunghuilee91/Deeplearning/blob/master/Ensemble.ipynb\" target=\"_parent\"><img src=\"https://colab.research.google.com/assets/colab-badge.svg\" alt=\"Open In Colab\"/></a>"
      ]
    },
    {
      "cell_type": "code",
      "metadata": {
        "id": "eL40CA31_k5r",
        "colab_type": "code",
        "colab": {}
      },
      "source": [
        "from google.colab import drive\n",
        "drive.mount('/content/gdrive', force_remount=True)\n",
        "import sys\n",
        "sys.path.append(\"/content/gdrive/My Drive/Colab Notebooks\")"
      ],
      "execution_count": 0,
      "outputs": []
    },
    {
      "cell_type": "markdown",
      "metadata": {
        "id": "FhGBWlqu2QqH",
        "colab_type": "text"
      },
      "source": [
        "# 앙상블\n",
        "\n",
        "\n",
        "---\n",
        "\n"
      ]
    },
    {
      "cell_type": "markdown",
      "metadata": {
        "id": "n4Cm-r5R2QmR",
        "colab_type": "text"
      },
      "source": [
        "## 앙상블 학습이란?\n",
        "####목적\n",
        "- 여러 분류기를 하나의 메타 분류기로 연결하여 개별 분류기보다 더 좋은 **일반화** 성능을 달성\n",
        "\n",
        "####방법\n",
        "- 여러개 분류 알고리즘 사용 : 다수결 투표(Voting)\n",
        "- 하나의 분류 알고리즘 이용 : 배깅(Bagging), 부스팅(Boosting)\n",
        "\n",
        "####종류\n",
        "- 투표(Majority Voting) : 동일한 훈련세트\n",
        "- 배깅(Bagging) : 훈련샘플에서 알고리즘 마다 별도의 훈련세트 추출\n",
        "  - 랜덤포레스트(Random Forest) \n",
        "- 부스팅(Boosting) : 샘플 뽑을 때 잘못 분류된 data 50%를 재학습, 또는 가중치 이용     **[셋 중 가장 정확도가 높음, But, 실제로 사용할 때 복잡하고 어렵다. 가중치를 어떻게 구현할 것인가?]**\n"
      ]
    },
    {
      "cell_type": "markdown",
      "metadata": {
        "id": "8oaHT0TN2Qir",
        "colab_type": "text"
      },
      "source": [
        "## 과반수 투표(Majority Voting)\n",
        "- 방법 : 동일한 훈련세트로 모델 구축\n",
        "\n",
        "\n",
        "<img src=\"https://www.researchgate.net/publication/324014302/figure/fig2/AS:644424015040514@1530654066950/Majority-voting-algorithm.png\">\n",
        "\n",
        "\n"
      ]
    },
    {
      "cell_type": "markdown",
      "metadata": {
        "id": "Vyw-K9Q04sbK",
        "colab_type": "text"
      },
      "source": [
        "## 배깅(Bagging)\n",
        "- 훈련샘플에서 알고리즘마다 별도의 훈련세트 추출해서 모델 구축\n",
        "- 부트스트랩(Bootstrap) 실시 : 데이터로 부터 복원추출(중복허용)을 이용\n",
        "\n",
        "### 랜덤 포레스트(Random Forest)\n",
        "- 방법\n",
        " - 배깅의 일종\n",
        " - 단일 분류 알고리즘(DT) 사용\n",
        " - 포레스트 구축 : 무작위로 예측변수 선택하여 모델 구축\n",
        " - 결과 결합 : 투표(분류), 평균화(예측)\n",
        " - 나무구조로 표현(x) -> **변수의 중요도 제공**\n",
        " ; 어떤 룰에 의해 어떻게 결정되는지 설명하기 어려운 단점있음"
      ]
    },
    {
      "cell_type": "markdown",
      "metadata": {
        "id": "IlOu21pK2QfO",
        "colab_type": "text"
      },
      "source": [
        "## 부스팅(Boosting)\n",
        "- 샘플 뽑을 때 잘못 분류된 data 50%를 재학습\n",
        "- AdaBoost : 전체 훈련샘플 사용하고, 잘못 분류된 data에 가중치 적용-> **더 잘맞출 수 있도록 모델을 재구축 할 수 있게**\n",
        "\n"
      ]
    },
    {
      "cell_type": "markdown",
      "metadata": {
        "id": "NbDC02XWBJYl",
        "colab_type": "text"
      },
      "source": [
        "# 코드실습\n"
      ]
    },
    {
      "cell_type": "markdown",
      "metadata": {
        "id": "NoM6vk7nVkNG",
        "colab_type": "text"
      },
      "source": [
        "## 과반수투표 VotingClassifier\n"
      ]
    },
    {
      "cell_type": "markdown",
      "metadata": {
        "id": "HFca16mPVpgS",
        "colab_type": "text"
      },
      "source": [
        "### 1. 기본 패키지 설치"
      ]
    },
    {
      "cell_type": "code",
      "metadata": {
        "id": "Vwlwt-lkCnq-",
        "colab_type": "code",
        "colab": {}
      },
      "source": [
        "# 1.기본\n",
        "import numpy as np # numpy 패키지 가져오기\n",
        "import matplotlib.pyplot as plt # 시각화 패키지 가져오기\n",
        "\n",
        "# 2.데이터 가져오기\n",
        "import pandas as pd # csv -> datafrom으로 전환\n"
      ],
      "execution_count": 0,
      "outputs": []
    },
    {
      "cell_type": "code",
      "metadata": {
        "id": "Ld6WM8JVBC_o",
        "colab_type": "code",
        "colab": {}
      },
      "source": [
        "# 3.데이터 전처리\n",
        "from sklearn.preprocessing import StandardScaler # 연속변수의 표준화\n",
        "from sklearn.preprocessing import LabelEncoder # 범주형 변수 수치화\n",
        "\n",
        "# 4.훈련/검증용 데이터 분리\n",
        "from sklearn.model_selection import train_test_split\n",
        "\n",
        "#5. 분류모델구축\n",
        "from sklearn.tree import DecisionTreeClassifier # 결정트리\n",
        "# from sklearn.naive_bayes import GaussianNB # 나이브 베이즈\n",
        "from sklearn.neighbors import KNeighborsClassifier # K-최근접이웃\n",
        "# from sklearn.linear_model import Perceptron # 퍼셉트론\n",
        "from sklearn.linear_model import LogisticRegression # 로지스틱 회귀 모델\n",
        "# from sklearn.svm import SVC # 서포트 벡터 머신(SVM)\n",
        "from sklearn.neural_network import MLPClassifier# 다중인공신경망\n",
        "\n",
        "#6. 앙상블모델 추가\n",
        "from sklearn.ensemble import VotingClassifier\n",
        "from sklearn.ensemble import BaggingClassifier\n",
        "from sklearn.ensemble import AdaBoostClassifier\n",
        "from sklearn.ensemble import RandomForestClassifier\n",
        "\n",
        "#7. 모델검정\n",
        "from sklearn.metrics import confusion_matrix, classification_report # 정오분류표\n",
        "from sklearn.metrics import accuracy_score, precision_score, recall_score, f1_score, roc_auc_score # 정확도, 민감도 등\n",
        "from sklearn.metrics import roc_curve, auc # ROC 곡선 그리기\n",
        "\n",
        "#8. 최적화\n",
        "from sklearn.model_selection import cross_validate # 교차타당도\n",
        "from sklearn.pipeline import make_pipeline # 파이프라인 구축\n",
        "from sklearn.model_selection import learning_curve, validation_curve # 학습곡선, 검증곡선\n",
        "from sklearn.model_selection import GridSearchCV # 하이퍼파라미터 튜닝\n",
        "from sklearn.model_selection import cross_val_score # 교차타당도 # 추가\n",
        "\n",
        "\n"
      ],
      "execution_count": 0,
      "outputs": []
    },
    {
      "cell_type": "code",
      "metadata": {
        "id": "hR_Dh0UrEyl_",
        "colab_type": "code",
        "colab": {}
      },
      "source": [
        ""
      ],
      "execution_count": 0,
      "outputs": []
    },
    {
      "cell_type": "markdown",
      "metadata": {
        "id": "Yer-VfKuFQCm",
        "colab_type": "text"
      },
      "source": [
        "### 2. 데이터 가져오기\n",
        "#### 2.1 데이터프레임으로 저장\n",
        "- 원본데이터(csv)를 dataframe 형태로 가져오기(pandas)\n"
      ]
    },
    {
      "cell_type": "code",
      "metadata": {
        "id": "YDb4ImTdFcuf",
        "colab_type": "code",
        "colab": {}
      },
      "source": [
        "bank_df = pd.read_csv('/content/gdrive/My Drive/Colab Notebooks/Ch06.앙상블/UniversalBank.csv', encoding='UTF-8') # 파이썬 저장 데이터 가져오기\n",
        "bank_df.head()"
      ],
      "execution_count": 0,
      "outputs": []
    },
    {
      "cell_type": "code",
      "metadata": {
        "id": "8Q4QiRaCFk3s",
        "colab_type": "code",
        "colab": {}
      },
      "source": [
        "bank_df.shape"
      ],
      "execution_count": 0,
      "outputs": []
    },
    {
      "cell_type": "code",
      "metadata": {
        "id": "LPn1iQiRGHGv",
        "colab_type": "code",
        "colab": {}
      },
      "source": [
        "bank_df.keys()"
      ],
      "execution_count": 0,
      "outputs": []
    },
    {
      "cell_type": "markdown",
      "metadata": {
        "id": "EzG5X9wwGHh0",
        "colab_type": "text"
      },
      "source": [
        "2.2 Data와 target으로 분리\n",
        "- 필요한 데이터만 추출\n",
        "- data: X, target :Y로 분리"
      ]
    },
    {
      "cell_type": "code",
      "metadata": {
        "id": "dlZ2E4WLFlGw",
        "colab_type": "code",
        "colab": {}
      },
      "source": [
        "X = bank_df.drop(['ID','ZIPCode','PersonalLoan'], axis=1)\n",
        "X.head()"
      ],
      "execution_count": 0,
      "outputs": []
    },
    {
      "cell_type": "code",
      "metadata": {
        "id": "7eIc3VDDUSeS",
        "colab_type": "code",
        "colab": {}
      },
      "source": [
        "y = bank_df['PersonalLoan']\n",
        "np.bincount(y)"
      ],
      "execution_count": 0,
      "outputs": []
    },
    {
      "cell_type": "markdown",
      "metadata": {
        "id": "qWBaPJZwVGbe",
        "colab_type": "text"
      },
      "source": [
        "### 3. 데이터 전처리\n",
        "#### 3.1 data(X) 레이블 인코딩\n",
        "- 문자형 자료를 숫자(범주형)로 인코딩 -> 범주형 변수를 가변수로 처리 : One Hot Encording \n",
        "- 숫자형 자료를 표준화\n",
        "- 단, 결정나무, 랜덤포레스트, 나이브베이즈 분류 : 원본데이터 유지\n",
        "- 가변수 처리시 문자로 처리를 해야 변수명 구분이 쉬움"
      ]
    },
    {
      "cell_type": "code",
      "metadata": {
        "id": "I0I9w8s8US1_",
        "colab_type": "code",
        "colab": {}
      },
      "source": [
        "X['Education'] = X['Education'].replace([1,2,3],['Under','Grad','Prof'])\n",
        "X.head() "
      ],
      "execution_count": 0,
      "outputs": []
    },
    {
      "cell_type": "code",
      "metadata": {
        "id": "VFOUEVZAUS_6",
        "colab_type": "code",
        "colab": {}
      },
      "source": [
        ""
      ],
      "execution_count": 0,
      "outputs": []
    },
    {
      "cell_type": "code",
      "metadata": {
        "id": "vMEQToUfUS5e",
        "colab_type": "code",
        "colab": {}
      },
      "source": [
        ""
      ],
      "execution_count": 0,
      "outputs": []
    }
  ]
}