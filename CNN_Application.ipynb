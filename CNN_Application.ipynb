{
  "nbformat": 4,
  "nbformat_minor": 0,
  "metadata": {
    "colab": {
      "name": "CNN Application.ipynb",
      "provenance": [],
      "private_outputs": true,
      "toc_visible": true,
      "authorship_tag": "ABX9TyM5uq4KS1EKRHzp/7NAAzr1",
      "include_colab_link": true
    },
    "kernelspec": {
      "name": "python3",
      "display_name": "Python 3"
    }
  },
  "cells": [
    {
      "cell_type": "markdown",
      "metadata": {
        "id": "view-in-github",
        "colab_type": "text"
      },
      "source": [
        "<a href=\"https://colab.research.google.com/github/seunghuilee91/Deeplearning/blob/master/CNN_Application.ipynb\" target=\"_parent\"><img src=\"https://colab.research.google.com/assets/colab-badge.svg\" alt=\"Open In Colab\"/></a>"
      ]
    },
    {
      "cell_type": "code",
      "metadata": {
        "id": "XWvGOpvG_9fR",
        "colab_type": "code",
        "colab": {}
      },
      "source": [
        "from google.colab import drive\n",
        "drive.mount('/content/gdrive', force_remount=True)\n",
        "import sys\n",
        "sys.path.append(\"/content/gdrive/My Drive/Colab Notebooks\")"
      ],
      "execution_count": 0,
      "outputs": []
    },
    {
      "cell_type": "markdown",
      "metadata": {
        "id": "fPOt-pal_-Nw",
        "colab_type": "text"
      },
      "source": [
        "# CNN Application 1\n",
        "---\n",
        "\n"
      ]
    },
    {
      "cell_type": "markdown",
      "metadata": {
        "id": "k4eEUUd1_-Qc",
        "colab_type": "text"
      },
      "source": [
        "## Visual Understanding AI\n",
        "\n",
        "### API \n",
        "\n",
        "- Google Vision API (https://cloud.google.com/vision)\n",
        "- MicroSoft Vision API (https://azure.microsoft.com/en-us/services/cognitive-services/computer-vision)\n",
        "- Amazon Rekognition API (https://aws.amazon.com/ko/rekognition/)\n",
        "\n",
        "\n",
        "\n",
        "\n",
        "[참조] API(응용 프로그램 인터페이스) : 소프트웨어 응용 프로그램 구축을 위한 일련의 루틴, 프로토콜 및 도구 집함들을 지칭한다. 소프트웨어 **구성요소**의 **상호 작용 방식**을 지정한다."
      ]
    },
    {
      "cell_type": "markdown",
      "metadata": {
        "id": "1c5tJYu3_-V7",
        "colab_type": "text"
      },
      "source": [
        "### JSON\n",
        "JSON(Java Script Object Notation)은 간단한 데이터 교환 형식이다.\n",
        "\n",
        "- 읽고 쓰기가 쉽다\n",
        "- 기계가 구문 분석하고 생성하기 쉽다\n",
        "- JSON은 완전히 언어에 독립적인 텍스트 형식이다\n",
        "- C++, C#, Java, JavaScript, Perl, Python 및 기타 프로그램 언어들에서 이상적인 데이터 교환 언어로 사용된다\n",
        "\n",
        "\n",
        "\n",
        ">#### **JSON Syntax**\n",
        "- 데이터는 이름:값 쌍으로 넣는다. {\"name\":\"Jun\"}\n",
        "- 데이터는 쉼포로 구분한다. {\"name\":\"Jun\", \"age\",:55}\n",
        "- 객체(object)는 중괄호 {}에 넣는다. {\"employee\":{\"name\":\"john\",\"age\":30,\"city\":\"new york\"}}\n",
        "- 배열(array)은 대괄호 []에 넣는다. {\"employee\":[\"john, \"anna\",\"peter\"]}\n",
        "- 값으로는 문자열, 숫자, JSON 객체, 배열, 불리안(boolean), null이 올 수 있다.\n",
        "\n"
      ]
    },
    {
      "cell_type": "code",
      "metadata": {
        "id": "n30iUPwpJsS2",
        "colab_type": "code",
        "colab": {}
      },
      "source": [
        "pip install pip google-cloud-vision"
      ],
      "execution_count": 0,
      "outputs": []
    },
    {
      "cell_type": "code",
      "metadata": {
        "id": "frQHvLOAKHVe",
        "colab_type": "code",
        "colab": {}
      },
      "source": [
        "from google.cloud import vision\n",
        "image_uri = 'gs://cloud-samples-data/vision/using_curl/shanghai.jpeg'\n",
        "\n",
        "client = vision.ImageAnnotatorClient()\n",
        "imgage = vision.types.Image()\n",
        "image.source.image_uri = image_uri\n",
        "\n",
        "response = client.label_detection(image=image)\n",
        "\n",
        "print('Labels(and confidence score):')\n",
        "print('='* 79)\n",
        "for label in response.label_annotations:\n",
        "    print(f'{label.description}({label.score*100.:.2f}%)')"
      ],
      "execution_count": 0,
      "outputs": []
    },
    {
      "cell_type": "markdown",
      "metadata": {
        "id": "1mAQFKql_-Y_",
        "colab_type": "text"
      },
      "source": [
        ""
      ]
    },
    {
      "cell_type": "code",
      "metadata": {
        "id": "k88-BMQuMkF5",
        "colab_type": "code",
        "colab": {}
      },
      "source": [
        "client = vision.ImageAnnotatorClient.from_service_account_json(\"/path/to/file.json\")"
      ],
      "execution_count": 0,
      "outputs": []
    }
  ]
}